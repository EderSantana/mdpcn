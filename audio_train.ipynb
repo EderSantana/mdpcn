{
 "metadata": {
  "name": "",
  "signature": "sha256:d9747eed2f5a624b1d07ea78c009cde58fdba59f0ac20e144fc7b813193f6c53"
 },
 "nbformat": 3,
 "nbformat_minor": 0,
 "worksheets": [
  {
   "cells": [
    {
     "cell_type": "code",
     "collapsed": false,
     "input": [
      "%matplotlib inline\n",
      "import numpy as np\n",
      "from pylab import *\n",
      "import theano\n",
      "import pylearn2.models.mlp\n",
      "import cdpcn\n",
      "import silentmlp\n",
      "#import vidtimit\n",
      "from vidtimit import VIDTIMIT\n",
      "from audtimit import AUDTIMIT\n",
      "#reload(vidtimit)\n",
      "from trainer import Trainer"
     ],
     "language": "python",
     "metadata": {},
     "outputs": [
      {
       "output_type": "stream",
       "stream": "stderr",
       "text": [
        "Using gpu device 0: GeForce GTX 680\n"
       ]
      }
     ],
     "prompt_number": 1
    },
    {
     "cell_type": "code",
     "collapsed": false,
     "input": [
      "import cPickle\n",
      "dataset = AUDTIMIT('train', axes=('b','c',0,1), center=True)\n",
      "monitoring_dataset = {'nada': VIDTIMIT('test', axes=('b','c',0,1))}"
     ],
     "language": "python",
     "metadata": {},
     "outputs": [],
     "prompt_number": 2
    },
    {
     "cell_type": "code",
     "collapsed": false,
     "input": [
      "from pylearn2.space import Conv2DSpace\n",
      "from pylearn2.models.mlp import IdentityConvNonlinearity, RectifierConvNonlinearity\n",
      "chan = 50\n",
      "ksize = 100\n",
      "model = silentmlp.SilentMLP(\n",
      "      batch_size=8,\n",
      "      layers= [\n",
      "               cdpcn.ConvSparseCoding(\n",
      "                   fprop_code = True,\n",
      "                   top_most = True,\n",
      "                   batch_size = 8,\n",
      "                   lr = .001,\n",
      "                   n_steps = 10,\n",
      "                   output_channels = chan,\n",
      "                   kernel_shape= [ksize, 1],\n",
      "                   pool_shape= [1, 1],\n",
      "                   pool_stride= [1, 1],\n",
      "                   pool_type = 'max',\n",
      "                   irange = .0001,\n",
      "                   layer_name = 'h0',\n",
      "                   nonlinearity = IdentityConvNonlinearity()\n",
      "               ),\n",
      "               pylearn2.models.mlp.Softmax (\n",
      "                   max_col_norm= 1.9365,\n",
      "                   layer_name= 'y',\n",
      "                   n_classes= 10,\n",
      "                   irange= .005\n",
      "              )\n",
      "              ],\n",
      "      input_space=Conv2DSpace(\n",
      "            shape= [1000, 1],\n",
      "            num_channels= 1,\n",
      "            axes=('b','c',0,1)\n",
      "      )\n",
      ")\n",
      "'''\n",
      "             cdpcn.ConvSparseCoding(\n",
      "                   fprop_code = True,\n",
      "                   top_most = True,\n",
      "                   batch_size = 8,\n",
      "                   lr = .001,\n",
      "                   n_steps = 10,\n",
      "                   input_channels = chan,\n",
      "                   output_channels = chan,\n",
      "                   kernel_shape= [100, 1],\n",
      "                   pool_shape= [1, 1],\n",
      "                   pool_stride= [1, 1],\n",
      "                   pool_type = 'max',\n",
      "                   irange = .0001,\n",
      "                   layer_name = 'h1',\n",
      "                   nonlinearity = IdentityConvNonlinearity()\n",
      "               ),\n",
      "'''"
     ],
     "language": "python",
     "metadata": {},
     "outputs": [
      {
       "output_type": "stream",
       "stream": "stderr",
       "text": [
        "/home/eder/ENV/local/lib/python2.7/site-packages/theano/tensor/subtensor.py:110: FutureWarning: comparison to `None` will result in an elementwise object comparison in the future.\n",
        "  start in [None, 0] or\n",
        "/home/eder/ENV/local/lib/python2.7/site-packages/theano/tensor/subtensor.py:114: FutureWarning: comparison to `None` will result in an elementwise object comparison in the future.\n",
        "  stop in [None, length, maxsize] or\n"
       ]
      },
      {
       "metadata": {},
       "output_type": "pyout",
       "prompt_number": 3,
       "text": [
        "\"\\n             cdpcn.ConvSparseCoding(\\n                   fprop_code = True,\\n                   top_most = True,\\n                   batch_size = 8,\\n                   lr = .001,\\n                   n_steps = 10,\\n                   input_channels = chan,\\n                   output_channels = chan,\\n                   kernel_shape= [100, 1],\\n                   pool_shape= [1, 1],\\n                   pool_stride= [1, 1],\\n                   pool_type = 'max',\\n                   irange = .0001,\\n                   layer_name = 'h1',\\n                   nonlinearity = IdentityConvNonlinearity()\\n               ),\\n\""
       ]
      }
     ],
     "prompt_number": 3
    },
    {
     "cell_type": "code",
     "collapsed": false,
     "input": [
      "from sparse_costs import ConvSparseReconstructionError\n",
      "cost = ConvSparseReconstructionError()\n",
      "trainer = Trainer(cost, model, dataset, monitoring_dataset, .06, './results.pkl',50)"
     ],
     "language": "python",
     "metadata": {},
     "outputs": [],
     "prompt_number": 12
    },
    {
     "cell_type": "code",
     "collapsed": false,
     "input": [
      "# Run this to load a 25x25 filter trained with 100 steps\n",
      "model = cPickle.load(file('model.pkl'))\n",
      "trainer = Trainer(cost, model, dataset, monitoring_dataset, .06, './results.pkl',10)"
     ],
     "language": "python",
     "metadata": {},
     "outputs": []
    },
    {
     "cell_type": "code",
     "collapsed": false,
     "input": [
      "#trainer.train_epoch()\n",
      "trainer.main_loop()"
     ],
     "language": "python",
     "metadata": {},
     "outputs": [
      {
       "output_type": "stream",
       "stream": "stdout",
       "text": [
        "\n",
        "============ \n",
        "Epoch: 0\n",
        "1\n",
        "$> Compiling optimizer.\n",
        "2"
       ]
      },
      {
       "output_type": "stream",
       "stream": "stdout",
       "text": [
        "\n",
        "3"
       ]
      },
      {
       "output_type": "stream",
       "stream": "stdout",
       "text": [
        "\n",
        "4"
       ]
      },
      {
       "output_type": "stream",
       "stream": "stdout",
       "text": [
        "\n",
        "5"
       ]
      },
      {
       "output_type": "stream",
       "stream": "stdout",
       "text": [
        "\n",
        "6"
       ]
      },
      {
       "output_type": "stream",
       "stream": "stdout",
       "text": [
        "\n",
        "7"
       ]
      },
      {
       "output_type": "stream",
       "stream": "stdout",
       "text": [
        "\n",
        "8"
       ]
      },
      {
       "output_type": "stream",
       "stream": "stdout",
       "text": [
        "\n",
        "9"
       ]
      },
      {
       "output_type": "stream",
       "stream": "stdout",
       "text": [
        "\n",
        "10"
       ]
      },
      {
       "output_type": "stream",
       "stream": "stdout",
       "text": [
        "\n",
        "11"
       ]
      },
      {
       "output_type": "stream",
       "stream": "stdout",
       "text": [
        "\n",
        "12"
       ]
      },
      {
       "output_type": "stream",
       "stream": "stdout",
       "text": [
        "\n",
        "13"
       ]
      },
      {
       "output_type": "stream",
       "stream": "stdout",
       "text": [
        "\n",
        "14"
       ]
      },
      {
       "output_type": "stream",
       "stream": "stdout",
       "text": [
        "\n",
        "15"
       ]
      },
      {
       "output_type": "stream",
       "stream": "stdout",
       "text": [
        "\n",
        "16"
       ]
      },
      {
       "output_type": "stream",
       "stream": "stdout",
       "text": [
        "\n",
        "17"
       ]
      },
      {
       "output_type": "stream",
       "stream": "stdout",
       "text": [
        "\n",
        "18"
       ]
      }
     ]
    },
    {
     "cell_type": "code",
     "collapsed": false,
     "input": [
      "# Save actual model\n",
      "import cPickle\n",
      "cPickle.dump(model, file('audio_model.pkl','w'), -1)"
     ],
     "language": "python",
     "metadata": {},
     "outputs": []
    },
    {
     "cell_type": "code",
     "collapsed": false,
     "input": [
      "import display_data\n",
      "rcParams['figure.figsize'] = 10, 10\n",
      "W = model.get_params()[0].get_value(borrow=True).reshape((chan, 100))\n",
      "#subplot(121)\n",
      "for i in range(20):\n",
      "    plot(W[i] + i)\n",
      "\n",
      "#subplot(122)\n",
      "#W = model.get_params()[2].get_value(borrow=True).reshape((chan*chan, 100))\n",
      "#for i in range(chan):\n",
      "#    plot(W[i] + i)"
     ],
     "language": "python",
     "metadata": {},
     "outputs": []
    },
    {
     "cell_type": "code",
     "collapsed": false,
     "input": [],
     "language": "python",
     "metadata": {},
     "outputs": []
    }
   ],
   "metadata": {}
  }
 ]
}
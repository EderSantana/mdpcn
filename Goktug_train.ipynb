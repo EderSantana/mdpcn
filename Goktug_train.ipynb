{
 "metadata": {
  "name": "",
  "signature": "sha256:4c82f5031acc2266b560943a6008229b3799f004e13435c9fce7abf96f728192"
 },
 "nbformat": 3,
 "nbformat_minor": 0,
 "worksheets": [
  {
   "cells": [
    {
     "cell_type": "code",
     "collapsed": false,
     "input": [
      "%matplotlib inline\n",
      "import numpy as np\n",
      "from pylab import *\n",
      "import theano\n",
      "\n",
      "import pylearn2.models.mlp\n",
      "import cdpcn\n",
      "import silentmlp\n",
      "#import vidtimit\n",
      "from fullvidtimit import GOKVIDTIMIT, FULLVIDTIMIT\n",
      "#reload(vidtimit)\n",
      "import trainer\n",
      "from trainer import Trainer, CompositeTrainer\n",
      "#reload(trainer)\n",
      "from pylearn2.space import CompositeSpace, Conv2DSpace, IndexSpace\n",
      "#reload(cdpcn)\n"
     ],
     "language": "python",
     "metadata": {},
     "outputs": [
      {
       "output_type": "stream",
       "stream": "stderr",
       "text": [
        "Using gpu device 0: GeForce GTX 680\n"
       ]
      }
     ],
     "prompt_number": 1
    },
    {
     "cell_type": "code",
     "collapsed": false,
     "input": [
      "import cPickle\n",
      "dataset = GOKVIDTIMIT('train', axes=('b','c',0,1), center=True)\n",
      "monitoring_dataset = {'nada': GOKVIDTIMIT('test', axes=('b','c',0,1), center=True)}"
     ],
     "language": "python",
     "metadata": {},
     "outputs": [],
     "prompt_number": 2
    },
    {
     "cell_type": "code",
     "collapsed": false,
     "input": [
      "from pylearn2.space import Conv2DSpace\n",
      "from pylearn2.models.mlp import IdentityConvNonlinearity, RectifierConvNonlinearity\n",
      "dim = 14\n",
      "chan = 16\n",
      "model = silentmlp.SilentMLP(\n",
      "      batch_size=8,\n",
      "      layers= [\n",
      "               cdpcn.CompositeConvLin(\n",
      "                   fprop_code = True,\n",
      "                   top_most = True,\n",
      "                   lbda = .1,\n",
      "                   batch_size = 8,\n",
      "                   lr = .001,\n",
      "                   n_steps = 100,\n",
      "                   output_channels = chan,\n",
      "                   dim = dim,\n",
      "                   kernel_shape= [5, 5],\n",
      "                   pool_shape= [1, 1],\n",
      "                   pool_stride= [1, 1],\n",
      "                   pool_type = 'max',\n",
      "                   irange = .001,\n",
      "                   layer_name = 'h0',\n",
      "                   nonlinearity = IdentityConvNonlinearity()\n",
      "               ),\n",
      "               pylearn2.models.mlp.Softmax (\n",
      "                   max_col_norm= 1.9365,\n",
      "                   layer_name= 'y',\n",
      "                   n_classes= 10,\n",
      "                   irange= .005\n",
      "              )\n",
      "              ],\n",
      "      input_space=CompositeSpace([Conv2DSpace(shape=[32,32], num_channels=1, axes=['b','c',0,1]),\n",
      "            Conv2DSpace(shape=[dim,1], num_channels=1, axes=['b','c',0,1])]),\n",
      "      input_source=('video', 'audio')\n",
      ")"
     ],
     "language": "python",
     "metadata": {},
     "outputs": [
      {
       "output_type": "stream",
       "stream": "stderr",
       "text": [
        "/home/eder/ENV/local/lib/python2.7/site-packages/theano/tensor/subtensor.py:110: FutureWarning: comparison to `None` will result in an elementwise object comparison in the future.\n",
        "  start in [None, 0] or\n",
        "/home/eder/ENV/local/lib/python2.7/site-packages/theano/tensor/subtensor.py:114: FutureWarning: comparison to `None` will result in an elementwise object comparison in the future.\n",
        "  stop in [None, length, maxsize] or\n"
       ]
      }
     ],
     "prompt_number": 3
    },
    {
     "cell_type": "code",
     "collapsed": false,
     "input": [
      "from sparse_costs import SparseReconstructionError\n",
      "cost = SparseReconstructionError()\n",
      "trainer_obj = trainer.CompositeTrainer(cost, model, dataset, monitoring_dataset, .06, './results.pkl',5)"
     ],
     "language": "python",
     "metadata": {},
     "outputs": [],
     "prompt_number": 4
    },
    {
     "cell_type": "code",
     "collapsed": false,
     "input": [
      "trainer_obj.main_loop()"
     ],
     "language": "python",
     "metadata": {},
     "outputs": [
      {
       "output_type": "stream",
       "stream": "stdout",
       "text": [
        "\n",
        "============ \n",
        "Epoch: 0\n",
        "$> Compiling optimizer.\n",
        "$> Compiling optimizer."
       ]
      },
      {
       "output_type": "stream",
       "stream": "stdout",
       "text": [
        "\n",
        "Training obj: 1062320.477295"
       ]
      },
      {
       "output_type": "stream",
       "stream": "stdout",
       "text": [
        "\n",
        "\n",
        "============ \n",
        "Epoch: 1\n",
        "Training obj: 1152527.969971"
       ]
      },
      {
       "output_type": "stream",
       "stream": "stdout",
       "text": [
        "\n",
        "\n",
        "============ \n",
        "Epoch: 2\n",
        "Training obj: 1587468.025635"
       ]
      },
      {
       "output_type": "stream",
       "stream": "stdout",
       "text": [
        "\n",
        "\n",
        "============ \n",
        "Epoch: 3\n",
        "Training obj: 1761868.085938"
       ]
      },
      {
       "output_type": "stream",
       "stream": "stdout",
       "text": [
        "\n",
        "\n",
        "============ \n",
        "Epoch: 4\n",
        "Training obj: 847282.147461"
       ]
      },
      {
       "output_type": "stream",
       "stream": "stdout",
       "text": [
        "\n"
       ]
      },
      {
       "output_type": "stream",
       "stream": "stderr",
       "text": [
        "/home/eder/Copy/python/top/__init__.py:139: UserWarning: The parameter 'updates' of theano.function() expects an OrderedDict, got <type 'dict'>. Using a standard dictionary here results in non-deterministic behavior. You should use an OrderedDict if you are using Python 2.7 (theano.compat.python2x.OrderedDict for older python), or use a list of (shared, update) pairs. Do not just convert your dictionary to this type before the call as the conversion will still be non-deterministic.\n",
        "  self.f = theano.function([], self.cost, updates=updates, givens=self.givens, allow_input_downcast=True)\n"
       ]
      }
     ],
     "prompt_number": 5
    },
    {
     "cell_type": "code",
     "collapsed": false,
     "input": [
      "model.get_params()"
     ],
     "language": "python",
     "metadata": {},
     "outputs": [
      {
       "metadata": {},
       "output_type": "pyout",
       "prompt_number": 6,
       "text": [
        "[h0_W, h0_W1, softmax_b, softmax_W]"
       ]
      }
     ],
     "prompt_number": 6
    },
    {
     "cell_type": "code",
     "collapsed": false,
     "input": [
      "import display_data\n",
      "rcParams['figure.figsize'] = [5,5]\n",
      "W0 = model.get_params()[0].get_value().reshape((16,25))\n",
      "d = display_data.displayData(W0,'w.png')\n",
      "subplot(121)\n",
      "imshow(d,cmap='gray')"
     ],
     "language": "python",
     "metadata": {},
     "outputs": [
      {
       "metadata": {},
       "output_type": "pyout",
       "prompt_number": 7,
       "text": [
        "<matplotlib.image.AxesImage at 0x7fafe4d82190>"
       ]
      },
      {
       "metadata": {},
       "output_type": "display_data",
       "png": "[encoded data removed]",
       "text": [
        "<matplotlib.figure.Figure at 0x7fafe4dab350>"
       ]
      }
     ],
     "prompt_number": 7
    },
    {
     "cell_type": "code",
     "collapsed": false,
     "input": [
      "rcParams['figure.figsize'] = [10,5]\n",
      "W1 = model.get_params()[1].get_value()\n",
      "for i in range(10):\n",
      "    plot(W1[i]+i/100.)"
     ],
     "language": "python",
     "metadata": {},
     "outputs": [
      {
       "metadata": {},
       "output_type": "display_data",
       "png": "[encoded data removed]",
       "text": [
        "<matplotlib.figure.Figure at 0x7fafe4d0a450>"
       ]
      }
     ],
     "prompt_number": 8
    },
    {
     "cell_type": "code",
     "collapsed": false,
     "input": [
      "import cPickle\n",
      "cPickle.dump(model, file('goktug_model.pkl', 'w'), -1)"
     ],
     "language": "python",
     "metadata": {},
     "outputs": [],
     "prompt_number": 10
    },
    {
     "cell_type": "code",
     "collapsed": false,
     "input": [],
     "language": "python",
     "metadata": {},
     "outputs": []
    }
   ],
   "metadata": {}
  }
 ]
}
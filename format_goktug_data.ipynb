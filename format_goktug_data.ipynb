{
 "metadata": {
  "name": "",
  "signature": "sha256:6cba3d1ab7fd783bd7b4189a4ef57cb8b181ac645d916f0630a3982a0f284c7c"
 },
 "nbformat": 3,
 "nbformat_minor": 0,
 "worksheets": [
  {
   "cells": [
    {
     "cell_type": "code",
     "collapsed": false,
     "input": [
      "from scipy.io import loadmat\n",
      "import numpy as np"
     ],
     "language": "python",
     "metadata": {},
     "outputs": [],
     "prompt_number": 1
    },
    {
     "cell_type": "code",
     "collapsed": false,
     "input": [
      "A = loadmat('../data/EderONRDataNew.mat')['data']\n",
      "B = A[0,0][2][0]\n",
      "B2 = A[0,0][3][0]"
     ],
     "language": "python",
     "metadata": {},
     "outputs": [],
     "prompt_number": 2
    },
    {
     "cell_type": "code",
     "collapsed": false,
     "input": [
      "data = np.zeros((12,54,14,1))\n",
      "for i in range(12):\n",
      "    start = i \n",
      "    end = (i+1) * 8\n",
      "    data[i,:,:,0] = np.hstack([B[i].T[:54] , B2[i].T[:54]])"
     ],
     "language": "python",
     "metadata": {},
     "outputs": [],
     "prompt_number": 3
    },
    {
     "cell_type": "code",
     "collapsed": false,
     "input": [
      "test = np.zeros((12,54,14,1))\n",
      "for i in range(12):\n",
      "    start = i * 8\n",
      "    end = (i+1) * 8\n",
      "    test[i,:,:,0] = np.hstack([B[i].T[-54:] , B2[i].T[-54:]])"
     ],
     "language": "python",
     "metadata": {},
     "outputs": [],
     "prompt_number": 4
    },
    {
     "cell_type": "code",
     "collapsed": false,
     "input": [
      "labels = np.arange(12)\n",
      "train_labels = labels.repeat(8)\n",
      "#train_labels = np.hstack([train_labels, train_labels, train_labels, train_labels, train_labels, labels, labels[0:1]])\n",
      "test_labels = labels.repeat(2)\n",
      "print test_labels\n",
      "print train_labels.shape"
     ],
     "language": "python",
     "metadata": {},
     "outputs": [
      {
       "output_type": "stream",
       "stream": "stdout",
       "text": [
        "[ 0  0  1  1  2  2  3  3  4  4  5  5  6  6  7  7  8  8  9  9 10 10 11 11]\n",
        "(96,)\n"
       ]
      }
     ],
     "prompt_number": 5
    },
    {
     "cell_type": "code",
     "collapsed": false,
     "input": [
      "train.shape"
     ],
     "language": "python",
     "metadata": {},
     "outputs": [
      {
       "ename": "NameError",
       "evalue": "name 'train' is not defined",
       "output_type": "pyerr",
       "traceback": [
        "\u001b[1;31m---------------------------------------------------------------------------\u001b[0m\n\u001b[1;31mNameError\u001b[0m                                 Traceback (most recent call last)",
        "\u001b[1;32m<ipython-input-6-50e611ad3b25>\u001b[0m in \u001b[0;36m<module>\u001b[1;34m()\u001b[0m\n\u001b[1;32m----> 1\u001b[1;33m \u001b[0mtrain\u001b[0m\u001b[1;33m.\u001b[0m\u001b[0mshape\u001b[0m\u001b[1;33m\u001b[0m\u001b[0m\n\u001b[0m",
        "\u001b[1;31mNameError\u001b[0m: name 'train' is not defined"
       ]
      }
     ],
     "prompt_number": 6
    },
    {
     "cell_type": "code",
     "collapsed": false,
     "input": [
      "import cPickle\n",
      "train = data.repeat(8,0)\n",
      "testr = test.repeat(2,0)\n",
      "#train = np.vstack([train, train, train, train, train, data, data[0:1]])\n",
      "dataset = {'train': train, 'test':testr, 'train_labels': train_labels, 'test_labels': test_labels}\n",
      "cPickle.dump(dataset, file('../data/goktug_dataset.pkl', 'w'), -1)"
     ],
     "language": "python",
     "metadata": {},
     "outputs": [],
     "prompt_number": 7
    },
    {
     "cell_type": "code",
     "collapsed": false,
     "input": [
      "#get mean values\n",
      "accum = 0.\n",
      "c = 0\n",
      "for b in B:\n",
      "    c += 1\n",
      "    accum += b.sum()\n",
      "print accum/c"
     ],
     "language": "python",
     "metadata": {},
     "outputs": [
      {
       "output_type": "stream",
       "stream": "stdout",
       "text": [
        "9.77979303558\n"
       ]
      }
     ],
     "prompt_number": 8
    },
    {
     "cell_type": "code",
     "collapsed": false,
     "input": [
      "print data.shape\n",
      "print test.shape"
     ],
     "language": "python",
     "metadata": {},
     "outputs": [
      {
       "output_type": "stream",
       "stream": "stdout",
       "text": [
        "(12, 54, 14, 1)\n",
        "(12, 54, 14, 1)\n"
       ]
      }
     ],
     "prompt_number": 9
    },
    {
     "cell_type": "code",
     "collapsed": false,
     "input": [
      "from sklearn.decomposition import PCA, KernelPCA\n",
      "from sklearn.svm import SVC\n",
      "from sklearn.utils import shuffle\n",
      "from sklearn.metrics import precision_score\n",
      "from sklearn.neighbors import KNeighborsClassifier as KNC"
     ],
     "language": "python",
     "metadata": {},
     "outputs": [],
     "prompt_number": 10
    },
    {
     "cell_type": "code",
     "collapsed": false,
     "input": [
      "#pca1 = PCA(n_components=4)\n",
      "labels = np.arange(12)\n",
      "clf = KNC(n_neighbors=22)\n",
      "#clf = SVC(kernel='rbf', gamma=.01)\n",
      "\n",
      "clf.fit(data.reshape((-1,14)), labels.repeat(54))\n",
      "Ytrain = clf.predict( data.reshape((-1,14)) )\n",
      "Ytest = clf.predict( test.reshape((-1,14)) )\n",
      "precision_score(labels.repeat(54), Ytest)"
     ],
     "language": "python",
     "metadata": {},
     "outputs": [
      {
       "metadata": {},
       "output_type": "pyout",
       "prompt_number": 11,
       "text": [
        "0.97990641241288357"
       ]
      }
     ],
     "prompt_number": 11
    },
    {
     "cell_type": "code",
     "collapsed": false,
     "input": [
      "train.shape"
     ],
     "language": "python",
     "metadata": {},
     "outputs": [
      {
       "metadata": {},
       "output_type": "pyout",
       "prompt_number": 12,
       "text": [
        "(96, 54, 14, 1)"
       ]
      }
     ],
     "prompt_number": 12
    },
    {
     "cell_type": "code",
     "collapsed": false,
     "input": [
      "np.tile(labels,2)"
     ],
     "language": "python",
     "metadata": {},
     "outputs": [
      {
       "metadata": {},
       "output_type": "pyout",
       "prompt_number": 13,
       "text": [
        "array([ 0,  1,  2,  3,  4,  5,  6,  7,  8,  9, 10, 11,  0,  1,  2,  3,  4,\n",
        "        5,  6,  7,  8,  9, 10, 11])"
       ]
      }
     ],
     "prompt_number": 13
    },
    {
     "cell_type": "code",
     "collapsed": false,
     "input": [
      "from fullvidtimit import GOKVIDTIMIT\n",
      "\n",
      "dataset = GOKVIDTIMIT('train')"
     ],
     "language": "python",
     "metadata": {},
     "outputs": [],
     "prompt_number": 16
    },
    {
     "cell_type": "code",
     "collapsed": false,
     "input": [
      "print dataset.get_data()[1].mean()\n",
      "print dataset.get_data()[1].std()"
     ],
     "language": "python",
     "metadata": {},
     "outputs": [
      {
       "output_type": "stream",
       "stream": "stdout",
       "text": [
        "0.0180211\n",
        "13.9876\n"
       ]
      }
     ],
     "prompt_number": 17
    },
    {
     "cell_type": "code",
     "collapsed": false,
     "input": [],
     "language": "python",
     "metadata": {},
     "outputs": []
    }
   ],
   "metadata": {}
  }
 ]
}
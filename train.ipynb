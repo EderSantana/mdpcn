{
 "metadata": {
  "name": "",
  "signature": "sha256:ea631af1aa787c5215817d443c6d1d2e2e8bd5179b1c3602af6841b617b56be9"
 },
 "nbformat": 3,
 "nbformat_minor": 0,
 "worksheets": [
  {
   "cells": [
    {
     "cell_type": "code",
     "collapsed": false,
     "input": [
      "%matplotlib inline\n",
      "import numpy as np\n",
      "from pylab import *\n",
      "import theano\n",
      "import pylearn2.models.mlp\n",
      "import cdpcn\n",
      "import silentmlp\n",
      "#import vidtimit\n",
      "from vidtimit import VIDTIMIT\n",
      "#reload(vidtimit)\n",
      "from trainer import Trainer"
     ],
     "language": "python",
     "metadata": {},
     "outputs": [
      {
       "output_type": "stream",
       "stream": "stderr",
       "text": [
        "Using gpu device 0: GeForce GTX 680\n"
       ]
      },
      {
       "ename": "ImportError",
       "evalue": "No module named cdpcn",
       "output_type": "pyerr",
       "traceback": [
        "\u001b[1;31m---------------------------------------------------------------------------\u001b[0m\n\u001b[1;31mImportError\u001b[0m                               Traceback (most recent call last)",
        "\u001b[1;32m<ipython-input-1-441345deea5b>\u001b[0m in \u001b[0;36m<module>\u001b[1;34m()\u001b[0m\n\u001b[0;32m      4\u001b[0m \u001b[1;32mimport\u001b[0m \u001b[0mtheano\u001b[0m\u001b[1;33m\u001b[0m\u001b[0m\n\u001b[0;32m      5\u001b[0m \u001b[1;32mimport\u001b[0m \u001b[0mpylearn2\u001b[0m\u001b[1;33m.\u001b[0m\u001b[0mmodels\u001b[0m\u001b[1;33m.\u001b[0m\u001b[0mmlp\u001b[0m\u001b[1;33m\u001b[0m\u001b[0m\n\u001b[1;32m----> 6\u001b[1;33m \u001b[1;32mimport\u001b[0m \u001b[0mcdpcn\u001b[0m\u001b[1;33m\u001b[0m\u001b[0m\n\u001b[0m\u001b[0;32m      7\u001b[0m \u001b[1;32mimport\u001b[0m \u001b[0msilentmlp\u001b[0m\u001b[1;33m\u001b[0m\u001b[0m\n\u001b[0;32m      8\u001b[0m \u001b[1;31m#import vidtimit\u001b[0m\u001b[1;33m\u001b[0m\u001b[1;33m\u001b[0m\u001b[0m\n",
        "\u001b[1;31mImportError\u001b[0m: No module named cdpcn"
       ]
      }
     ],
     "prompt_number": 1
    },
    {
     "cell_type": "code",
     "collapsed": false,
     "input": [
      "import cPickle\n",
      "dataset = VIDTIMIT('train', axes=('b','c',0,1), center=True)\n",
      "monitoring_dataset = {'nada': VIDTIMIT('test', axes=('b','c',0,1))}"
     ],
     "language": "python",
     "metadata": {},
     "outputs": [],
     "prompt_number": 2
    },
    {
     "cell_type": "code",
     "collapsed": false,
     "input": [
      "from pylearn2.space import Conv2DSpace\n",
      "from pylearn2.models.mlp import IdentityConvNonlinearity, RectifierConvNonlinearity\n",
      "chan = 16\n",
      "bsize = 8\n",
      "model = silentmlp.SilentMLP(\n",
      "      batch_size=bsize,\n",
      "      layers= [\n",
      "               cdpcn.ConvSparseCoding(\n",
      "                   fprop_code = True,\n",
      "                   top_most = False,\n",
      "                   batch_size = bsize,\n",
      "                   lr = .001,\n",
      "                   lbda = .1,\n",
      "                   n_steps = 10,\n",
      "                   output_channels = chan,\n",
      "                   kernel_shape= [5, 5],\n",
      "                   pool_shape= [1, 1],\n",
      "                   pool_stride= [1, 1],\n",
      "                   pool_type = 'max',\n",
      "                   irange = .0001,\n",
      "                   layer_name = 'h0',\n",
      "                   nonlinearity = RectifierConvNonlinearity()\n",
      "               ),\n",
      "               cdpcn.ConvSparseCoding(\n",
      "                   fprop_code = True,\n",
      "                   top_most = True,\n",
      "                   batch_size = bsize,\n",
      "                   lr = .001,\n",
      "                   lbda = .1,\n",
      "                   n_steps = 10,\n",
      "                   input_channels = chan,\n",
      "                   output_channels = chan,\n",
      "                   kernel_shape= [5, 5],\n",
      "                   pool_shape= [1, 1],\n",
      "                   pool_stride= [1, 1],\n",
      "                   pool_type = 'max',\n",
      "                   irange = .0001,\n",
      "                   layer_name = 'h1',\n",
      "                   nonlinearity = IdentityConvNonlinearity()\n",
      "               ),\n",
      "               pylearn2.models.mlp.Softmax (\n",
      "                   max_col_norm= 1.9365,\n",
      "                   layer_name= 'y',\n",
      "                   n_classes= 10,\n",
      "                   irange= .005\n",
      "              )\n",
      "              ],\n",
      "      input_space=Conv2DSpace(\n",
      "            shape= [32, 32],\n",
      "            num_channels= 1,\n",
      "            axes=('b','c',0,1)\n",
      "      )\n",
      ")\n"
     ],
     "language": "python",
     "metadata": {},
     "outputs": [
      {
       "output_type": "stream",
       "stream": "stderr",
       "text": [
        "/home/eder/ENV/local/lib/python2.7/site-packages/theano/tensor/subtensor.py:110: FutureWarning: comparison to `None` will result in an elementwise object comparison in the future.\n",
        "  start in [None, 0] or\n",
        "/home/eder/ENV/local/lib/python2.7/site-packages/theano/tensor/subtensor.py:114: FutureWarning: comparison to `None` will result in an elementwise object comparison in the future.\n",
        "  stop in [None, length, maxsize] or\n"
       ]
      }
     ],
     "prompt_number": 4
    },
    {
     "cell_type": "code",
     "collapsed": false,
     "input": [
      "from pylearn2.space import Conv2DSpace\n",
      "from pylearn2.models.mlp import IdentityConvNonlinearity, RectifierConvNonlinearity\n",
      "chan = 16\n",
      "bsize = 8\n",
      "model = silentmlp.SilentMLP(\n",
      "      batch_size=bsize,\n",
      "      layers= [\n",
      "               cdpcn.ConvSparseCoding(\n",
      "                   fprop_code = True,\n",
      "                   top_most = True,\n",
      "                   batch_size = bsize,\n",
      "                   lr = .001,\n",
      "                   lbda = .1,\n",
      "                   n_steps = 10,\n",
      "                   input_channels = 1,\n",
      "                   output_channels = chan,\n",
      "                   kernel_shape= [5, 5],\n",
      "                   pool_shape= [1, 1],\n",
      "                   pool_stride= [1, 1],\n",
      "                   pool_type = 'max',\n",
      "                   irange = .0001,\n",
      "                   layer_name = 'h1',\n",
      "                   nonlinearity = IdentityConvNonlinearity()\n",
      "               ),\n",
      "               pylearn2.models.mlp.Softmax (\n",
      "                   max_col_norm= 1.9365,\n",
      "                   layer_name= 'y',\n",
      "                   n_classes= 10,\n",
      "                   irange= .005\n",
      "              )\n",
      "              ],\n",
      "      input_space=Conv2DSpace(\n",
      "            shape= [32, 32],\n",
      "            num_channels= 1,\n",
      "            axes=('b','c',0,1)\n",
      "      )\n",
      ")\n"
     ],
     "language": "python",
     "metadata": {},
     "outputs": [
      {
       "output_type": "stream",
       "stream": "stderr",
       "text": [
        "/home/eder/ENV/local/lib/python2.7/site-packages/theano/tensor/subtensor.py:110: FutureWarning: comparison to `None` will result in an elementwise object comparison in the future.\n",
        "  start in [None, 0] or\n",
        "/home/eder/ENV/local/lib/python2.7/site-packages/theano/tensor/subtensor.py:114: FutureWarning: comparison to `None` will result in an elementwise object comparison in the future.\n",
        "  stop in [None, length, maxsize] or\n"
       ]
      }
     ],
     "prompt_number": 3
    },
    {
     "cell_type": "code",
     "collapsed": false,
     "input": [
      "from sparse_costs import ConvSparseReconstructionError, SparseReconstructionError\n",
      "cost = ConvSparseReconstructionError()\n",
      "trainer = Trainer(cost, model, dataset, monitoring_dataset, .06, './results.pkl',1)"
     ],
     "language": "python",
     "metadata": {},
     "outputs": [],
     "prompt_number": 4
    },
    {
     "cell_type": "code",
     "collapsed": false,
     "input": [
      "# Run this to load a 25x25 filter trained with 100 steps\n",
      "model = cPickle.load(file('model.pkl'))\n",
      "trainer = Trainer(cost, model, dataset, monitoring_dataset, .06, './results.pkl',10)"
     ],
     "language": "python",
     "metadata": {},
     "outputs": [],
     "prompt_number": 6
    },
    {
     "cell_type": "code",
     "collapsed": false,
     "input": [
      "#trainer.train_epoch()\n",
      "trainer.main_loop()"
     ],
     "language": "python",
     "metadata": {},
     "outputs": [
      {
       "output_type": "stream",
       "stream": "stdout",
       "text": [
        "\n",
        "============ \n",
        "Epoch: 0\n",
        "$> Compiling optimizer.\n",
        "$> Compiling optimizer."
       ]
      },
      {
       "output_type": "stream",
       "stream": "stdout",
       "text": [
        "\n",
        "Training obj: 2637.178066"
       ]
      },
      {
       "output_type": "stream",
       "stream": "stdout",
       "text": [
        "\n"
       ]
      },
      {
       "output_type": "stream",
       "stream": "stderr",
       "text": [
        "/home/eder/Copy/python/top/__init__.py:139: UserWarning: The parameter 'updates' of theano.function() expects an OrderedDict, got <type 'dict'>. Using a standard dictionary here results in non-deterministic behavior. You should use an OrderedDict if you are using Python 2.7 (theano.compat.python2x.OrderedDict for older python), or use a list of (shared, update) pairs. Do not just convert your dictionary to this type before the call as the conversion will still be non-deterministic.\n",
        "  self.f = theano.function([], self.cost, updates=updates, givens=self.givens, allow_input_downcast=True)\n"
       ]
      }
     ],
     "prompt_number": 5
    },
    {
     "cell_type": "code",
     "collapsed": false,
     "input": [
      "# Save actual model\n",
      "import cPickle\n",
      "cPickle.dump(model, file('model_1layer.pkl','w'), -1)"
     ],
     "language": "python",
     "metadata": {},
     "outputs": [],
     "prompt_number": 6
    },
    {
     "cell_type": "code",
     "collapsed": false,
     "input": [
      "import display_data\n",
      "W = model.get_params()[0].get_value(borrow=True)\n",
      "d = display_data.displayData(W[0].reshape((16,25)),'w.png')\n",
      "subplot(121)\n",
      "imshow(d,cmap='gray')\n",
      "'''\n",
      "subplot(122)\n",
      "W = model.layers[1].transformer.get_params()[0].get_value(borrow=True)\n",
      "d = display_data.displayData(W[0].reshape((16,25)),'w.png')\n",
      "imshow(d,cmap='gray')\n",
      "'''"
     ],
     "language": "python",
     "metadata": {},
     "outputs": [
      {
       "metadata": {},
       "output_type": "pyout",
       "prompt_number": 7,
       "text": [
        "\"\\nsubplot(122)\\nW = model.layers[1].transformer.get_params()[0].get_value(borrow=True)\\nd = display_data.displayData(W[0].reshape((16,25)),'w.png')\\nimshow(d,cmap='gray')\\n\""
       ]
      },
      {
       "metadata": {},
       "output_type": "display_data",
       "png": "[encoded data removed]",
       "text": [
        "<matplotlib.figure.Figure at 0x7f77db5d3d10>"
       ]
      }
     ],
     "prompt_number": 7
    },
    {
     "cell_type": "code",
     "collapsed": false,
     "input": [],
     "language": "python",
     "metadata": {},
     "outputs": []
    }
   ],
   "metadata": {}
  }
 ]
}
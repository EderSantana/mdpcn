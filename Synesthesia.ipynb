{
 "metadata": {
  "name": "",
  "signature": "sha256:dba53049a872ec6f854ca33f54e6c425e2fb9da0e41ea2e1ed78d7e30df17682"
 },
 "nbformat": 3,
 "nbformat_minor": 0,
 "worksheets": [
  {
   "cells": [
    {
     "cell_type": "code",
     "collapsed": false,
     "input": [
      "%matplotlib inline\n",
      "import numpy as np\n",
      "from pylab import *\n",
      "import theano\n",
      "import pylearn2.models.mlp\n",
      "import cdpcn\n",
      "import silentmlp\n",
      "#import vidtimit\n",
      "from vidtimit import VIDTIMIT\n",
      "from audtimit import AUDTIMIT\n",
      "#reload(vidtimit)\n",
      "from trainer import Trainer"
     ],
     "language": "python",
     "metadata": {},
     "outputs": [
      {
       "output_type": "stream",
       "stream": "stdout",
       "text": [
        "Couldn't import dot_parser, loading of dot files will not be possible.\n"
       ]
      }
     ],
     "prompt_number": 1
    },
    {
     "cell_type": "code",
     "collapsed": false,
     "input": [
      "from pylearn2.models.mlp import *\n",
      "from pylearn2.space import *\n",
      "from pylearn2.datasets.vector_spaces_dataset import VectorSpacesDataset\n",
      "from pylearn2.datasets.dense_design_matrix import DenseDesignMatrix\n",
      "from pylearn2.space import VectorSpace, CompositeSpace, Conv2DSpace, IndexSpace\n",
      "from pylearn2.train import Train\n",
      "from pylearn2.training_algorithms.sgd import SGD\n",
      "from pylearn2.termination_criteria import EpochCounter"
     ],
     "language": "python",
     "metadata": {},
     "outputs": [],
     "prompt_number": 2
    },
    {
     "cell_type": "code",
     "collapsed": false,
     "input": [
      "from fullvidtimit import FULLVIDTIMIT"
     ],
     "language": "python",
     "metadata": {},
     "outputs": [],
     "prompt_number": 3
    },
    {
     "cell_type": "code",
     "collapsed": false,
     "input": [
      "dataset = FULLVIDTIMIT('train', center=True)"
     ],
     "language": "python",
     "metadata": {},
     "outputs": [],
     "prompt_number": 4
    },
    {
     "cell_type": "code",
     "collapsed": false,
     "input": [
      "    mlp = MLP(\n",
      "        layers=[\n",
      "            FlattenerLayer(\n",
      "                CompositeLayer(\n",
      "                    'composite',\n",
      "                    [Linear(10, 'h0', 0.1),\n",
      "                     Linear(10, 'h1', 0.1)],\n",
      "                    {\n",
      "                        0: [1],\n",
      "                        1: [0]\n",
      "                    }\n",
      "                )\n",
      "            ),\n",
      "            Softmax(36, 'softmax', 0.1)\n",
      "        ],\n",
      "        input_space=CompositeSpace([Conv2DSpace(shape=[32,32], num_channels=54, axes=['b','c',0,1]),\n",
      "            Conv2DSpace(shape=[1000,1], num_channels=54, axes=['b','c',0,1])]),\n",
      "        input_source=('video', 'audio')\n",
      "    )\n",
      "    train = Train(dataset, mlp, SGD(0.1, batch_size=8))\n",
      "    train.algorithm.termination_criterion = EpochCounter(1)\n",
      "    train.main_loop()"
     ],
     "language": "python",
     "metadata": {},
     "outputs": [
      {
       "output_type": "stream",
       "stream": "stderr",
       "text": [
        "/Users/eder/pylearn2/pylearn2/models/model.py:61: UserWarning: <class 'pylearn2.models.mlp.FlattenerLayer'> overrides Model.censor_updates, which is deprecated. Change this to _modify_updates. censor_updates will no longer be called on or after 2014-11-01.\n",
        "  warnings.warn(str(type(self)) + \" overrides \"\n",
        "/Users/eder/pylearn2/pylearn2/train.py:85: UserWarning: dataset has no yaml src, model won't know what data it was trained on\n",
        "  \"data it was trained on\")\n"
       ]
      },
      {
       "output_type": "stream",
       "stream": "stdout",
       "text": [
        "Parameter and initial learning rate summary:\n"
       ]
      },
      {
       "output_type": "stream",
       "stream": "stdout",
       "text": [
        "\th1_W: 0.10000000149\n"
       ]
      },
      {
       "output_type": "stream",
       "stream": "stdout",
       "text": [
        "\th1_b: 0.10000000149\n"
       ]
      },
      {
       "output_type": "stream",
       "stream": "stdout",
       "text": [
        "\th0_W: 0.10000000149\n"
       ]
      },
      {
       "output_type": "stream",
       "stream": "stdout",
       "text": [
        "\th0_b: 0.10000000149\n"
       ]
      },
      {
       "output_type": "stream",
       "stream": "stdout",
       "text": [
        "\tsoftmax_b: 0.10000000149\n"
       ]
      },
      {
       "output_type": "stream",
       "stream": "stdout",
       "text": [
        "\tsoftmax_W: 0.10000000149\n"
       ]
      },
      {
       "output_type": "stream",
       "stream": "stdout",
       "text": [
        "Compiling sgd_update...\n"
       ]
      },
      {
       "output_type": "stream",
       "stream": "stderr",
       "text": [
        "/Users/eder/pylearn2/pylearn2/models/mlp.py:4675: UserWarning: censor_updates is deprecated, call modify_updates instead. This will become an error on or after 2014-11-01.\n",
        "  self.raw_layer.censor_updates(updates)\n"
       ]
      },
      {
       "output_type": "stream",
       "stream": "stdout",
       "text": [
        "Compiling sgd_update done. Time elapsed: 5.394834 seconds\n"
       ]
      },
      {
       "output_type": "stream",
       "stream": "stdout",
       "text": [
        "compiling begin_record_entry...\n"
       ]
      },
      {
       "output_type": "stream",
       "stream": "stdout",
       "text": [
        "compiling begin_record_entry done. Time elapsed: 0.006966 seconds\n"
       ]
      },
      {
       "output_type": "stream",
       "stream": "stdout",
       "text": [
        "Monitored channels: \n"
       ]
      },
      {
       "output_type": "stream",
       "stream": "stdout",
       "text": [
        "Compiling accum...\n"
       ]
      },
      {
       "output_type": "stream",
       "stream": "stdout",
       "text": [
        "Compiling accum done. Time elapsed: 0.000682 seconds\n"
       ]
      },
      {
       "output_type": "stream",
       "stream": "stdout",
       "text": [
        "Monitoring step:\n"
       ]
      },
      {
       "output_type": "stream",
       "stream": "stdout",
       "text": [
        "\tEpochs seen: 0\n"
       ]
      },
      {
       "output_type": "stream",
       "stream": "stdout",
       "text": [
        "\tBatches seen: 0\n"
       ]
      },
      {
       "output_type": "stream",
       "stream": "stdout",
       "text": [
        "\tExamples seen: 0\n"
       ]
      },
      {
       "output_type": "stream",
       "stream": "stdout",
       "text": [
        "Time this epoch: 0.716075 seconds\n"
       ]
      },
      {
       "output_type": "stream",
       "stream": "stdout",
       "text": [
        "Monitoring step:\n"
       ]
      },
      {
       "output_type": "stream",
       "stream": "stdout",
       "text": [
        "\tEpochs seen: 1\n"
       ]
      },
      {
       "output_type": "stream",
       "stream": "stdout",
       "text": [
        "\tBatches seen: 36\n"
       ]
      },
      {
       "output_type": "stream",
       "stream": "stdout",
       "text": [
        "\tExamples seen: 288\n"
       ]
      },
      {
       "output_type": "stream",
       "stream": "stdout",
       "text": [
        "Time this epoch: 0.001427 seconds\n"
       ]
      }
     ],
     "prompt_number": 5
    },
    {
     "cell_type": "code",
     "collapsed": false,
     "input": [
      "F = mlp.layers[0]"
     ],
     "language": "python",
     "metadata": {},
     "outputs": [],
     "prompt_number": 8
    },
    {
     "cell_type": "code",
     "collapsed": false,
     "input": [
      "CS = F.get_input_space()"
     ],
     "language": "python",
     "metadata": {},
     "outputs": [],
     "prompt_number": 13
    },
    {
     "cell_type": "code",
     "collapsed": false,
     "input": [
      "CS.make_batch_theano()"
     ],
     "language": "python",
     "metadata": {},
     "outputs": [
      {
       "metadata": {},
       "output_type": "pyout",
       "prompt_number": 25,
       "text": [
        "(<TensorType(float32, 4D)>, <TensorType(float32, 4D)>)"
       ]
      }
     ],
     "prompt_number": 25
    },
    {
     "cell_type": "code",
     "collapsed": false,
     "input": [],
     "language": "python",
     "metadata": {},
     "outputs": []
    }
   ],
   "metadata": {}
  }
 ]
}
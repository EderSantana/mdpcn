{
 "metadata": {
  "name": "",
  "signature": "sha256:75303ffa08e256e5482ea5e7b453f61bc99ec53844fe51816381ca748f3082fd"
 },
 "nbformat": 3,
 "nbformat_minor": 0,
 "worksheets": [
  {
   "cells": [
    {
     "cell_type": "code",
     "collapsed": false,
     "input": [
      "from scipy.io import loadmat\n",
      "import numpy as np"
     ],
     "language": "python",
     "metadata": {},
     "outputs": [],
     "prompt_number": 20
    },
    {
     "cell_type": "code",
     "collapsed": false,
     "input": [
      "A = loadmat('../data/EderONRDataNew.mat')['data']\n",
      "B = A[0,0][2][0]"
     ],
     "language": "python",
     "metadata": {},
     "outputs": [],
     "prompt_number": 21
    },
    {
     "cell_type": "code",
     "collapsed": false,
     "input": [
      "for b in B:\n",
      "    print b.shape"
     ],
     "language": "python",
     "metadata": {},
     "outputs": [
      {
       "output_type": "stream",
       "stream": "stdout",
       "text": [
        "(10, 95)\n",
        "(10, 100)\n",
        "(10, 105)\n",
        "(10, 101)\n",
        "(10, 104)\n",
        "(10, 106)\n",
        "(10, 106)\n",
        "(10, 106)\n",
        "(10, 97)\n",
        "(10, 106)\n",
        "(10, 106)\n",
        "(10, 110)\n"
       ]
      }
     ],
     "prompt_number": 22
    },
    {
     "cell_type": "code",
     "collapsed": false,
     "input": [
      "data = np.zeros((12,54,10,1))\n",
      "for i in range(12):\n",
      "    start = i \n",
      "    end = (i+1) * 8\n",
      "    data[i,:,:,0] = B[i].T[:54]"
     ],
     "language": "python",
     "metadata": {},
     "outputs": [],
     "prompt_number": 23
    },
    {
     "cell_type": "code",
     "collapsed": false,
     "input": [
      "test = np.zeros((7,54,10,1))\n",
      "for i in range(7):\n",
      "    start = i * 8\n",
      "    end = (i+1) * 8\n",
      "    test[i,:,:,0] = B[i].T[-54:]"
     ],
     "language": "python",
     "metadata": {},
     "outputs": [],
     "prompt_number": 24
    },
    {
     "cell_type": "code",
     "collapsed": false,
     "input": [
      "labels = np.arange(12)\n",
      "train_labels = labels.repeat(8)\n",
      "train_labels = np.hstack([train_labels, train_labels, train_labels, train_labels, train_labels, labels, labels[0:1]])\n",
      "test_labels = labels.repeat(2)\n",
      "print test_labels\n",
      "print train_labels.shape"
     ],
     "language": "python",
     "metadata": {},
     "outputs": [
      {
       "output_type": "stream",
       "stream": "stdout",
       "text": [
        "[ 0  0  1  1  2  2  3  3  4  4  5  5  6  6  7  7  8  8  9  9 10 10 11 11]\n",
        "(493,)\n"
       ]
      }
     ],
     "prompt_number": 25
    },
    {
     "cell_type": "code",
     "collapsed": false,
     "input": [
      "import cPickle\n",
      "train = data.repeat(8,0)\n",
      "testr = test.repeat(2,0)\n",
      "#train = np.vstack([train, train, train, train, train, data, data[0:1]])\n",
      "dataset = {'train': train, 'test':testr, 'train_labels': train_labels, 'test_labels': test_labels}\n",
      "cPickle.dump(dataset, file('../data/goktug_dataset.pkl', 'w'), -1)"
     ],
     "language": "python",
     "metadata": {},
     "outputs": [],
     "prompt_number": 10
    },
    {
     "cell_type": "code",
     "collapsed": false,
     "input": [
      "#get mean values\n",
      "accum = 0.\n",
      "c = 0\n",
      "for b in B:\n",
      "    c += 1\n",
      "    accum += b.std()\n",
      "print accum/c"
     ],
     "language": "python",
     "metadata": {},
     "outputs": [
      {
       "output_type": "stream",
       "stream": "stdout",
       "text": [
        "7.42747499796\n"
       ]
      }
     ],
     "prompt_number": 11
    },
    {
     "cell_type": "code",
     "collapsed": false,
     "input": [
      "print data.shape\n",
      "print test.shape"
     ],
     "language": "python",
     "metadata": {},
     "outputs": [
      {
       "output_type": "stream",
       "stream": "stdout",
       "text": [
        "(12, 54, 10, 1)\n",
        "(12, 54, 10, 1)\n"
       ]
      }
     ],
     "prompt_number": 12
    },
    {
     "cell_type": "code",
     "collapsed": false,
     "input": [
      "from sklearn.decomposition import PCA, KernelPCA\n",
      "from sklearn.svm import SVC\n",
      "from sklearn.utils import shuffle\n",
      "from sklearn.metrics import precision_score\n",
      "from sklearn.neighbors import KNeighborsClassifier as KNC"
     ],
     "language": "python",
     "metadata": {},
     "outputs": [],
     "prompt_number": 13
    },
    {
     "cell_type": "code",
     "collapsed": false,
     "input": [
      "#pca1 = PCA(n_components=4)\n",
      "labels = np.arange(12)\n",
      "clf = KNC(n_neighbors=22)\n",
      "#clf = SVC(kernel='rbf', gamma=.01)\n",
      "\n",
      "clf.fit(data.reshape((-1,10)), labels.repeat(54))\n",
      "Ytrain = clf.predict( data.reshape((-1,10)) )\n",
      "Ytest = clf.predict( test.reshape((-1,10)) )\n",
      "precision_score(labels.repeat(54), Ytest)"
     ],
     "language": "python",
     "metadata": {},
     "outputs": [
      {
       "metadata": {},
       "output_type": "pyout",
       "prompt_number": 15,
       "text": [
        "0.97885739333722976"
       ]
      }
     ],
     "prompt_number": 15
    },
    {
     "cell_type": "code",
     "collapsed": false,
     "input": [
      "train.shape"
     ],
     "language": "python",
     "metadata": {},
     "outputs": [
      {
       "metadata": {},
       "output_type": "pyout",
       "prompt_number": 16,
       "text": [
        "(96, 54, 10, 1)"
       ]
      }
     ],
     "prompt_number": 16
    },
    {
     "cell_type": "code",
     "collapsed": false,
     "input": [
      "np.tile(labels,2)"
     ],
     "language": "python",
     "metadata": {},
     "outputs": [
      {
       "metadata": {},
       "output_type": "pyout",
       "prompt_number": 17,
       "text": [
        "array([ 0,  1,  2,  3,  4,  5,  6,  7,  8,  9, 10, 11,  0,  1,  2,  3,  4,\n",
        "        5,  6,  7,  8,  9, 10, 11])"
       ]
      }
     ],
     "prompt_number": 17
    },
    {
     "cell_type": "code",
     "collapsed": false,
     "input": [
      "from fullvidtimit import GOKVIDTIMIT\n",
      "\n",
      "dataset = GOKVIDTIMIT('train')"
     ],
     "language": "python",
     "metadata": {},
     "outputs": [
      {
       "ename": "AssertionError",
       "evalue": "",
       "output_type": "pyerr",
       "traceback": [
        "\u001b[0;31m---------------------------------------------------------------------------\u001b[0m\n\u001b[0;31mAssertionError\u001b[0m                            Traceback (most recent call last)",
        "\u001b[0;32m<ipython-input-19-0259a2477b6d>\u001b[0m in \u001b[0;36m<module>\u001b[0;34m()\u001b[0m\n\u001b[1;32m      1\u001b[0m \u001b[0;32mfrom\u001b[0m \u001b[0mfullvidtimit\u001b[0m \u001b[0;32mimport\u001b[0m \u001b[0mGOKVIDTIMIT\u001b[0m\u001b[0;34m\u001b[0m\u001b[0m\n\u001b[1;32m      2\u001b[0m \u001b[0;34m\u001b[0m\u001b[0m\n\u001b[0;32m----> 3\u001b[0;31m \u001b[0mdataset\u001b[0m \u001b[0;34m=\u001b[0m \u001b[0mGOKVIDTIMIT\u001b[0m\u001b[0;34m(\u001b[0m\u001b[0;34m'train'\u001b[0m\u001b[0;34m)\u001b[0m\u001b[0;34m\u001b[0m\u001b[0m\n\u001b[0m",
        "\u001b[0;32m/Users/eder/Copy/python/data/vidtimit/code/fullvidtimit.pyc\u001b[0m in \u001b[0;36m__init__\u001b[0;34m(self, which_set, center, rescale, gcn, one_hot, start, stop, axes, preprocessor)\u001b[0m\n\u001b[1;32m    355\u001b[0m             \u001b[0mConv2DSpace\u001b[0m\u001b[0;34m(\u001b[0m\u001b[0mshape\u001b[0m\u001b[0;34m=\u001b[0m\u001b[0;34m[\u001b[0m\u001b[0mgokdim\u001b[0m\u001b[0;34m,\u001b[0m\u001b[0;36m1\u001b[0m\u001b[0;34m]\u001b[0m\u001b[0;34m,\u001b[0m \u001b[0mnum_channels\u001b[0m\u001b[0;34m=\u001b[0m\u001b[0;36m54\u001b[0m\u001b[0;34m,\u001b[0m \u001b[0maxes\u001b[0m\u001b[0;34m=\u001b[0m\u001b[0;34m[\u001b[0m\u001b[0;34m'b'\u001b[0m\u001b[0;34m,\u001b[0m\u001b[0;34m'c'\u001b[0m\u001b[0;34m,\u001b[0m\u001b[0;36m0\u001b[0m\u001b[0;34m,\u001b[0m\u001b[0;36m1\u001b[0m\u001b[0;34m]\u001b[0m\u001b[0;34m)\u001b[0m\u001b[0;34m,\u001b[0m\u001b[0;34m\u001b[0m\u001b[0m\n\u001b[1;32m    356\u001b[0m             IndexSpace(self.n_classes,1)]), \n\u001b[0;32m--> 357\u001b[0;31m             ('video','audio','targets')))\n\u001b[0m\u001b[1;32m    358\u001b[0m \u001b[0;34m\u001b[0m\u001b[0m\n\u001b[1;32m    359\u001b[0m         \u001b[0;31m#assert not contains_nan(self.X)\u001b[0m\u001b[0;34m\u001b[0m\u001b[0;34m\u001b[0m\u001b[0m\n",
        "\u001b[0;32m/Users/eder/pylearn2/pylearn2/datasets/vector_spaces_dataset.pyc\u001b[0m in \u001b[0;36m__init__\u001b[0;34m(self, data, data_specs, rng, preprocessor, fit_preprocessor)\u001b[0m\n\u001b[1;32m     62\u001b[0m         \u001b[0mspace\u001b[0m\u001b[0;34m,\u001b[0m \u001b[0msource\u001b[0m \u001b[0;34m=\u001b[0m \u001b[0mdata_specs\u001b[0m\u001b[0;34m\u001b[0m\u001b[0m\n\u001b[1;32m     63\u001b[0m         \u001b[0mspace\u001b[0m\u001b[0;34m.\u001b[0m\u001b[0mnp_validate\u001b[0m\u001b[0;34m(\u001b[0m\u001b[0mdata\u001b[0m\u001b[0;34m)\u001b[0m\u001b[0;34m\u001b[0m\u001b[0m\n\u001b[0;32m---> 64\u001b[0;31m         \u001b[0;32massert\u001b[0m \u001b[0mlen\u001b[0m\u001b[0;34m(\u001b[0m\u001b[0mset\u001b[0m\u001b[0;34m(\u001b[0m\u001b[0melem\u001b[0m\u001b[0;34m.\u001b[0m\u001b[0mshape\u001b[0m\u001b[0;34m[\u001b[0m\u001b[0;36m0\u001b[0m\u001b[0;34m]\u001b[0m \u001b[0;32mfor\u001b[0m \u001b[0melem\u001b[0m \u001b[0;32min\u001b[0m \u001b[0mlist\u001b[0m\u001b[0;34m(\u001b[0m\u001b[0mdata\u001b[0m\u001b[0;34m)\u001b[0m\u001b[0;34m)\u001b[0m\u001b[0;34m)\u001b[0m \u001b[0;34m<=\u001b[0m \u001b[0;36m1\u001b[0m\u001b[0;34m\u001b[0m\u001b[0m\n\u001b[0m\u001b[1;32m     65\u001b[0m         \u001b[0mself\u001b[0m\u001b[0;34m.\u001b[0m\u001b[0mdata\u001b[0m \u001b[0;34m=\u001b[0m \u001b[0mdata\u001b[0m\u001b[0;34m\u001b[0m\u001b[0m\n\u001b[1;32m     66\u001b[0m         \u001b[0mself\u001b[0m\u001b[0;34m.\u001b[0m\u001b[0mdata_specs\u001b[0m \u001b[0;34m=\u001b[0m \u001b[0mdata_specs\u001b[0m\u001b[0;34m\u001b[0m\u001b[0m\n",
        "\u001b[0;31mAssertionError\u001b[0m: "
       ]
      }
     ],
     "prompt_number": 19
    },
    {
     "cell_type": "code",
     "collapsed": false,
     "input": [
      "dataset.get_data()[1].mean()"
     ],
     "language": "python",
     "metadata": {},
     "outputs": []
    },
    {
     "cell_type": "code",
     "collapsed": false,
     "input": [],
     "language": "python",
     "metadata": {},
     "outputs": []
    }
   ],
   "metadata": {}
  }
 ]
}
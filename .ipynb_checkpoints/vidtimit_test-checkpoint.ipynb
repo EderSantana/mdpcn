{
 "metadata": {
  "name": "",
  "signature": "sha256:2513783d9f383bc042ed350e15464d05bbc4f619194de782da452966090a2c7d"
 },
 "nbformat": 3,
 "nbformat_minor": 0,
 "worksheets": [
  {
   "cells": [
    {
     "cell_type": "code",
     "collapsed": false,
     "input": [
      "%matplotlib inline\n",
      "import numpy as np\n",
      "from pylab import *\n",
      "import theano\n",
      "import pylearn2.models.mlp\n",
      "import cdpcn\n",
      "import silentmlp\n",
      "#import vidtimit\n",
      "from vidtimit import VIDTIMIT\n",
      "#reload(vidtimit)"
     ],
     "language": "python",
     "metadata": {},
     "outputs": [
      {
       "output_type": "stream",
       "stream": "stdout",
       "text": [
        "Couldn't import dot_parser, loading of dot files will not be possible.\n"
       ]
      },
      {
       "output_type": "stream",
       "stream": "stderr",
       "text": [
        "Using gpu device 0: GeForce GTX 680\n"
       ]
      }
     ],
     "prompt_number": 1
    },
    {
     "cell_type": "heading",
     "level": 1,
     "metadata": {},
     "source": [
      "Linear Model"
     ]
    },
    {
     "cell_type": "code",
     "collapsed": false,
     "input": [
      "data = VIDTIMIT('train', axes=('b','c',0,1))\n"
     ],
     "language": "python",
     "metadata": {},
     "outputs": [],
     "prompt_number": 2
    },
    {
     "cell_type": "code",
     "collapsed": false,
     "input": [
      "print data.get_batch_topo(1).shape\n",
      "I = data.get_batch_topo(1)\n",
      "imshow(I[0,0], cmap='gray')"
     ],
     "language": "python",
     "metadata": {},
     "outputs": [
      {
       "output_type": "stream",
       "stream": "stdout",
       "text": [
        "(1, 54, 32, 32)\n"
       ]
      },
      {
       "metadata": {},
       "output_type": "pyout",
       "prompt_number": 3,
       "text": [
        "<matplotlib.image.AxesImage at 0x7f71a3bb7750>"
       ]
      },
      {
       "metadata": {},
       "output_type": "display_data",
       "png": "[encoded data removed]",
       "text": [
        "<matplotlib.figure.Figure at 0x7f71a3c15a50>"
       ]
      }
     ],
     "prompt_number": 3
    },
    {
     "cell_type": "code",
     "collapsed": false,
     "input": [
      "model = silentmlp.SilentMLP(\n",
      "      layers= [\n",
      "               cdpcn.SparseCodingLayer(\n",
      "                   batch_size = 10,\n",
      "                   dim = 1200,\n",
      "                   layer_name= 'h0',\n",
      "                   irange= .005,\n",
      "                   max_col_norm= 1.9365,\n",
      "                   use_bias=False\n",
      "               ), \n",
      "               pylearn2.models.mlp.Softmax (\n",
      "                   max_col_norm= 1.9365,\n",
      "                   layer_name= 'y',\n",
      "                   n_classes= 10,\n",
      "                   irange= .005\n",
      "              )\n",
      "              ],\n",
      "      nvis= 54*32*32\n",
      "      )\n",
      "\n",
      "print model.layers[0]\n",
      "#print model.layers[0].get_sparse_code(int).get_value().shape\n",
      "print model.layers[0].W.get_value().shape\n",
      "print model.layers[0].b.get_value().shape\n",
      "print model.layers[0].get_params()\n",
      "\n",
      "inp = model.get_input_space().make_theano_batch()\n",
      "print inp\n",
      "out = model.layers[0].fprop(inp)\n",
      "print out\n",
      "fout = theano.function([inp], out, on_unused_input='ignore')\n",
      "\n",
      "X = np.random.randn(10, 54*32*32).astype('float32')\n",
      "Y = fout(X)\n",
      "Y.shape\n",
      "plot(Y[0])"
     ],
     "language": "python",
     "metadata": {},
     "outputs": [
      {
       "output_type": "stream",
       "stream": "stdout",
       "text": [
        "<cdpcn.SparseCodingLayer object at 0x7f22d5aa0c90>\n",
        "(1200, 55296)"
       ]
      },
      {
       "output_type": "stream",
       "stream": "stdout",
       "text": [
        "\n",
        "(55296,)\n",
        "[h0_W]\n",
        "<TensorType(float32, matrix)>\n",
        "Elemwise{switch,no_inplace}.0"
       ]
      },
      {
       "output_type": "stream",
       "stream": "stdout",
       "text": [
        "\n"
       ]
      },
      {
       "metadata": {},
       "output_type": "pyout",
       "prompt_number": 4,
       "text": [
        "[<matplotlib.lines.Line2D at 0x7f22d56b7250>]"
       ]
      },
      {
       "metadata": {},
       "output_type": "display_data",
       "png": "[encoded data removed]",
       "text": [
        "<matplotlib.figure.Figure at 0x7f22d572ec50>"
       ]
      }
     ],
     "prompt_number": 4
    },
    {
     "cell_type": "code",
     "collapsed": false,
     "input": [
      "Y = fout(X)\n",
      "Y.shape\n",
      "plot(Y[0])\n"
     ],
     "language": "python",
     "metadata": {},
     "outputs": [
      {
       "metadata": {},
       "output_type": "pyout",
       "prompt_number": 5,
       "text": [
        "[<matplotlib.lines.Line2D at 0x7f22d5662950>]"
       ]
      },
      {
       "metadata": {},
       "output_type": "display_data",
       "png": "[encoded data removed]",
       "text": [
        "<matplotlib.figure.Figure at 0x7f22d5a8ce50>"
       ]
      }
     ],
     "prompt_number": 5
    },
    {
     "cell_type": "code",
     "collapsed": false,
     "input": [
      "import cPickle\n",
      "import numpy as np\n",
      "def load_data(data_path='/home/eder/Copy/python/sandbox/unsup_comp/data/mnist.pkl'):\n",
      "    train_set, val_set, test_set = cPickle.load(file(data_path))\n",
      "    Xt, Zt = train_set\n",
      "    Xv, Zv = val_set\n",
      "    Xy, Zy = test_set\n",
      "    Xm = Xt.mean(axis=0)[np.newaxis]\n",
      "    return Xt-Xm, Zt, Xv-Xm, Zv, Xy-Xm, Zy\n",
      "\n",
      "mnist = load_data()[0]\n",
      "mnist.shape"
     ],
     "language": "python",
     "metadata": {},
     "outputs": []
    },
    {
     "cell_type": "code",
     "collapsed": false,
     "input": [
      "import top\n",
      "from theano import tensor as T\n",
      "import theano\n",
      "from sparse_costs import SparseReconstructionError\n",
      "A = model.layers[0].W\n",
      "X = model.layers[0].get_sparse_code(inp) #\n",
      "#X = model.layers[0].X\n",
      "b = model.layers[0].b\n",
      "err = T.sqr(inp - T.dot(X, A)).sum()\n",
      "l1  = T.sqrt(X**2 + 1e-6).sum()\n",
      "#cost = err + .1 * l1\n",
      "cost = SparseReconstructionError()\n",
      "#optX = top.Optimizer(X, cost, input=inp, method='rmsprop', learning_rate=.001, momentum=.9)\n",
      "opt = top.Optimizer(A, cost.expr(model,inp), input=inp, method='sgd', learning_rate=.06)\n",
      "#opt = top.Optimizer(A, cost, input=inp, method='sgd', learning_rate=.06)\n",
      "#opt_b = top.Optimizer(b, cost, input=inp, method='sgd', learning_rate=.006)\n",
      "#fX = theano.function([inp],X)"
     ],
     "language": "python",
     "metadata": {},
     "outputs": []
    },
    {
     "cell_type": "code",
     "collapsed": false,
     "input": [
      "for i in range(100000):\n",
      "    #s = data.get_batch_design(100)\n",
      "    idx = np.random.randint(0,50000,100)\n",
      "    s = mnist[idx]\n",
      "    #model.layers[0].X = theano.shared(fX(s))\n",
      "    #optX.run(150,s)\n",
      "    opt.run(1,s)\n",
      "    #opt_b.run(1,s)\n",
      "    if np.mod(i,100)==0:\n",
      "        print opt.f(s)"
     ],
     "language": "python",
     "metadata": {},
     "outputs": []
    },
    {
     "cell_type": "code",
     "collapsed": false,
     "input": [
      "import display_data\n",
      "import pylab\n",
      "pylab.rcParams['figure.figsize'] = (10.0, 10.0)\n",
      "from pylearn2.utils import serial\n",
      "d = display_data.displayData(A.get_value(),'test.png')\n",
      "imshow(d, cmap='gray')"
     ],
     "language": "python",
     "metadata": {},
     "outputs": []
    },
    {
     "cell_type": "heading",
     "level": 1,
     "metadata": {},
     "source": [
      "Conv Model"
     ]
    },
    {
     "cell_type": "code",
     "collapsed": false,
     "input": [
      "from pylearn2.space import Conv2DSpace\n",
      "\n",
      "data = VIDTIMIT('train', axes=('b','c',0,1))\n",
      "\n",
      "model = silentmlp.SilentMLP(\n",
      "      batch_size=10,\n",
      "      layers= [\n",
      "               cdpcn.ConvSparseCoding(\n",
      "                   batch_size = 10,\n",
      "                   lr = .001,\n",
      "                   n_steps = 10,\n",
      "                   output_channels = 16,\n",
      "                   kernel_shape= [5, 5],\n",
      "                   irange = .00001,\n",
      "                   layer_name = 'h0',\n",
      "                   pool_shape=[2,2],\n",
      "                   pool_stride=[2,2],\n",
      "                   pool_type='max'\n",
      "                   nonlinearity = 'recfitier'\n",
      "               ), \n",
      "               pylearn2.models.mlp.Softmax (\n",
      "                   max_col_norm= 1.9365,\n",
      "                   layer_name= 'y',\n",
      "                   n_classes= 10,\n",
      "                   irange= .005\n",
      "              )\n",
      "              ],\n",
      "      input_space=Conv2DSpace(\n",
      "            shape= [32, 32],\n",
      "            num_channels= 1,\n",
      "            axes=('b','c',0,1)\n",
      "      )\n",
      ")\n",
      "print model.layers[0]\n",
      "from cdpcn import ConvSparseCoding\n",
      "print isinstance(model.layers[-1], ConvSparseCoding)\n",
      "#print model.layers[0].get_sparse_code(int).get_value().shape\n",
      "print model.layers[0].transformer.get_params()[0].get_value().shape\n",
      "print model.layers[0].b.get_value().shape\n",
      "print model.layers[0].get_params()\n",
      "\n",
      "inp = model.get_input_space().make_theano_batch()\n",
      "print inp\n",
      "out = model.layers[0].fprop(inp)\n",
      "print out\n",
      "fout = theano.function([inp], out, on_unused_input='ignore')\n",
      "\n",
      "X = np.random.randn(10, 1, 32, 32).astype('float32')\n",
      "Y = fout(X)\n",
      "print Y.shape"
     ],
     "language": "python",
     "metadata": {},
     "outputs": [
      {
       "output_type": "stream",
       "stream": "stdout",
       "text": [
        "<cdpcn.ConvSparseCoding object at 0x7f22d5b71410>\n",
        "False\n",
        "(1, 16, 5, 5)\n",
        "(16, 36, 36)\n",
        "[h0_W, h0_b]\n",
        "<TensorType(float32, (False, True, False, False))>\n",
        "Elemwise{switch,no_inplace}.0\n",
        "(10, 16, 36, 36)"
       ]
      },
      {
       "output_type": "stream",
       "stream": "stdout",
       "text": [
        "\n"
       ]
      }
     ],
     "prompt_number": 6
    },
    {
     "cell_type": "code",
     "collapsed": false,
     "input": [
      "model.get_input_space()"
     ],
     "language": "python",
     "metadata": {},
     "outputs": [
      {
       "metadata": {},
       "output_type": "pyout",
       "prompt_number": 7,
       "text": [
        "Conv2DSpace(shape=(32, 32), num_channels=1, axes=('b', 'c', 0, 1), dtype=float32)"
       ]
      }
     ],
     "prompt_number": 7
    },
    {
     "cell_type": "code",
     "collapsed": false,
     "input": [
      "import cPickle\n",
      "import numpy as np\n",
      "def load_data(data_path='/home/eder/Copy/python/sandbox/unsup_comp/data/mnist.pkl'):\n",
      "    train_set, val_set, test_set = cPickle.load(file(data_path))\n",
      "    Xt, Zt = train_set\n",
      "    Xv, Zv = val_set\n",
      "    Xy, Zy = test_set\n",
      "    Xm = Xt.mean(axis=0)[np.newaxis]\n",
      "    return Xt-Xm, Zt, Xv-Xm, Zv, Xy-Xm, Zy\n",
      "\n",
      "mnist = load_data()[0]\n",
      "mnist.shape"
     ],
     "language": "python",
     "metadata": {},
     "outputs": []
    },
    {
     "cell_type": "code",
     "collapsed": false,
     "input": [
      "def renorm(A):\n",
      "    tmp = A.get_value()\n",
      "    shp = tmp.shape\n",
      "    tmp = tmp.reshape((shp[0]*shp[1], shp[2]*shp[3]))\n",
      "    tmp = np.dot(tmp.T, np.diag(1./np.sqrt(np.sum(tmp**2, axis=1)))).T\n",
      "    A.set_value(tmp.reshape(shp))\n"
     ],
     "language": "python",
     "metadata": {},
     "outputs": []
    },
    {
     "cell_type": "code",
     "collapsed": false,
     "input": [
      "import top\n",
      "from theano import tensor as T\n",
      "import theano\n",
      "from sparse_costs import ConvSparseReconstructionError\n",
      "operator = model.layers[0].transformer\n",
      "A = operator.get_params()[0]\n",
      "#X = model.layers[0].get_sparse_code(inp) #\n",
      "X = model.layers[0].X\n",
      "b = model.layers[0].b\n",
      "err = T.sqr(inp - operator.lmul(X)).sum()\n",
      "l1  = T.sqrt(X**2 + 1e-6).sum()\n",
      "#cost = err + .1 * l1\n",
      "cost = ConvSparseReconstructionError()\n",
      "#optX = top.Optimizer(X, cost, input=inp, method='rmsprop', learning_rate=.001, momentum=.9)\n",
      "opt = top.Optimizer(A, cost.expr(model,inp), input=inp, method='sgd', learning_rate=.006)\n",
      "#opt = top.Optimizer(A, cost, input=inp, method='sgd', learning_rate=.06)\n",
      "#opt_b = top.Optimizer(b, cost, input=inp, method='sgd', learning_rate=.006)\n",
      "#fX = theano.function([inp],X)\n",
      "renorm(A)"
     ],
     "language": "python",
     "metadata": {},
     "outputs": []
    },
    {
     "cell_type": "code",
     "collapsed": false,
     "input": [
      "for i in range(100):\n",
      "    s = data.get_batch_topo(100)\n",
      "    #model.layers[0].X = theano.shared(fX(s))\n",
      "    #optX.run(150,s)\n",
      "    opt.run(1,s)\n",
      "    #renorm(A)\n",
      "    #opt_b.run(1,s)\n",
      "    if np.mod(i,10)==0:\n",
      "        print opt.f(s)"
     ],
     "language": "python",
     "metadata": {},
     "outputs": []
    },
    {
     "cell_type": "code",
     "collapsed": false,
     "input": [
      "import display_data\n",
      "import pylab\n",
      "pylab.rcParams['figure.figsize'] = (5.0, 5.0)\n",
      "from pylearn2.utils import serial\n",
      "d = display_data.displayData(A.get_value().reshape(16,25),'test.png')\n",
      "imshow(d, cmap='gray')"
     ],
     "language": "python",
     "metadata": {},
     "outputs": []
    },
    {
     "cell_type": "code",
     "collapsed": false,
     "input": [],
     "language": "python",
     "metadata": {},
     "outputs": []
    }
   ],
   "metadata": {}
  }
 ]
}
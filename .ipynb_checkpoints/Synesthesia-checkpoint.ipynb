{
 "metadata": {
  "name": "",
  "signature": "sha256:ec24172d77d250bfde32f7b349d89a5751115d4822767c344b5d515288f36dfa"
 },
 "nbformat": 3,
 "nbformat_minor": 0,
 "worksheets": [
  {
   "cells": [
    {
     "cell_type": "code",
     "collapsed": false,
     "input": [
      "%matplotlib inline\n",
      "import numpy as np\n",
      "from pylab import *\n",
      "import theano\n",
      "import pylearn2.models.mlp\n",
      "import cdpcn\n",
      "import silentmlp\n",
      "#import vidtimit\n",
      "from vidtimit import VIDTIMIT\n",
      "from audtimit import AUDTIMIT\n",
      "#reload(vidtimit)\n",
      "from trainer import Trainer"
     ],
     "language": "python",
     "metadata": {},
     "outputs": []
    },
    {
     "cell_type": "code",
     "collapsed": false,
     "input": [
      "from pylearn2.models.mlp import *\n",
      "from pylearn2.space import *\n",
      "from pylearn2.datasets.vector_spaces_dataset import VectorSpacesDataset\n",
      "from pylearn2.datasets.dense_design_matrix import DenseDesignMatrix\n",
      "from pylearn2.space import VectorSpace, CompositeSpace, Conv2DSpace, IndexSpace\n",
      "from pylearn2.train import Train\n",
      "from pylearn2.training_algorithms.sgd import SGD\n",
      "from pylearn2.termination_criteria import EpochCounter"
     ],
     "language": "python",
     "metadata": {},
     "outputs": []
    },
    {
     "cell_type": "code",
     "collapsed": false,
     "input": [
      "from fullvidtimit import FULLVIDTIMIT"
     ],
     "language": "python",
     "metadata": {},
     "outputs": []
    },
    {
     "cell_type": "code",
     "collapsed": false,
     "input": [
      "dataset = FULLVIDTIMIT('train', center=True)"
     ],
     "language": "python",
     "metadata": {},
     "outputs": []
    },
    {
     "cell_type": "code",
     "collapsed": false,
     "input": [
      "    mlp = MLP(\n",
      "        layers=[\n",
      "            FlattenerLayer(\n",
      "                CompositeLayer(\n",
      "                    'composite',\n",
      "                    [Linear(10, 'h0', 0.1),\n",
      "                     Linear(10, 'h1', 0.1)],\n",
      "                    {\n",
      "                        0: [1],\n",
      "                        1: [0]\n",
      "                    }\n",
      "                )\n",
      "            ),\n",
      "            Softmax(36, 'softmax', 0.1)\n",
      "        ],\n",
      "        input_space=CompositeSpace([Conv2DSpace(shape=[32,32], num_channels=54, axes=['b','c',0,1]),\n",
      "            Conv2DSpace(shape=[1000,1], num_channels=54, axes=['b','c',0,1])]),\n",
      "        input_source=('video', 'audio')\n",
      "    )\n",
      "    train = Train(dataset, mlp, SGD(0.1, batch_size=8))\n",
      "    train.algorithm.termination_criterion = EpochCounter(1)\n",
      "    train.main_loop()"
     ],
     "language": "python",
     "metadata": {},
     "outputs": []
    }
   ],
   "metadata": {}
  }
 ]
}
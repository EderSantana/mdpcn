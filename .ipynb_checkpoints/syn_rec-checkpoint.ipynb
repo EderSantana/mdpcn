{
 "metadata": {
  "name": "",
  "signature": "sha256:aab78ee8e60a736d47bc3e9877edb95656e4547781fe7e685222c77b441df3f5"
 },
 "nbformat": 3,
 "nbformat_minor": 0,
 "worksheets": [
  {
   "cells": [
    {
     "cell_type": "heading",
     "level": 1,
     "metadata": {},
     "source": [
      "Reconstruction"
     ]
    },
    {
     "cell_type": "code",
     "collapsed": false,
     "input": [
      "%matplotlib inline\n",
      "import numpy as np\n",
      "from pylab import *\n",
      "rcParams['figure.figsize'] = 8, 8\n",
      "import theano\n",
      "import pylearn2.models.mlp\n",
      "import cdpcn\n",
      "import silentmlp\n",
      "#import vidtimit\n",
      "from vidtimit import VIDTIMIT\n",
      "from fullvidtimit import FULLVIDTIMIT\n",
      "#reload(vidtimit)\n",
      "import cPickle\n",
      "from trainer import Trainer, CompositeTrainer\n",
      "from sparse_costs import ConvSparseReconstructionError\n",
      "import theano\n",
      "from theano import tensor as T\n",
      "#from bokeh.plotting import *\n",
      "#output_notebook()"
     ],
     "language": "python",
     "metadata": {},
     "outputs": []
    },
    {
     "cell_type": "heading",
     "level": 3,
     "metadata": {},
     "source": [
      "From layer 1"
     ]
    },
    {
     "cell_type": "code",
     "collapsed": false,
     "input": [
      "cost = ConvSparseReconstructionError()\n",
      "dataset = FULLVIDTIMIT('train', axes=('b','c',0,1), center=True)\n",
      "monitoring_dataset = {'valid': FULLVIDTIMIT('test', axes=('b','c',0,1), center=True)}\n",
      "model = cPickle.load(file('composite_model.pkl'))\n",
      "trainer = CompositeTrainer(cost, model, dataset, monitoring_dataset, .06, './results.pkl',2)"
     ],
     "language": "python",
     "metadata": {},
     "outputs": []
    },
    {
     "cell_type": "code",
     "collapsed": false,
     "input": [
      "print trainer.compiled_fprop\n",
      "print len(trainer.compiled_fprop)"
     ],
     "language": "python",
     "metadata": {},
     "outputs": []
    },
    {
     "cell_type": "code",
     "collapsed": false,
     "input": [
      "ori_data = dataset.get_data()\n",
      "video = ori_data[0][:8]\n",
      "audio = ori_data[1][:8]\n",
      "del ori_data\n",
      "print video.shape\n",
      "print audio.shape\n",
      "print model.layers[0].S0.get_value().shape\n",
      "print model.layers[0].S1.get_value().shape"
     ],
     "language": "python",
     "metadata": {},
     "outputs": []
    },
    {
     "cell_type": "code",
     "collapsed": false,
     "input": [
      "noise = np.random.uniform(0,.2,size=(8,54,32,32)).astype('float32')\n",
      "noisy_video = video + noise\n",
      "model.layers[0].S0.set_value(noisy_video[:,:1,:,:])\n",
      "model.layers[0].S1.set_value(audio[:,:1,:,:].reshape((8,1000)))\n",
      "model.layers[0].opt.run(100)"
     ],
     "language": "python",
     "metadata": {},
     "outputs": []
    },
    {
     "cell_type": "code",
     "collapsed": false,
     "input": [
      "X = model.layers[0].X\n",
      "y = model.layers[0].transformer.lmul(X)\n",
      "frecon = theano.function([], y, allow_input_downcast=True)\n",
      "clean = frecon()"
     ],
     "language": "python",
     "metadata": {},
     "outputs": []
    },
    {
     "cell_type": "code",
     "collapsed": false,
     "input": [
      "subplot(131)\n",
      "imshow(video[0,0,:,:],cmap='gray')\n",
      "subplot(132)\n",
      "imshow(clean[0,0,:,:],cmap='gray')\n",
      "subplot(133)\n",
      "imshow(noisy_video[0,0,:,:],cmap='gray')"
     ],
     "language": "python",
     "metadata": {},
     "outputs": []
    },
    {
     "cell_type": "heading",
     "level": 3,
     "metadata": {},
     "source": [
      "From layer 2"
     ]
    },
    {
     "cell_type": "code",
     "collapsed": false,
     "input": [
      "from scipy.misc import imresize\n",
      "code = trainer.compiled_fprop[0](noisy_data[:,:1,:,:])"
     ],
     "language": "python",
     "metadata": {},
     "outputs": []
    },
    {
     "cell_type": "code",
     "collapsed": false,
     "input": [
      "model.layers[1].S.set_value(code)\n",
      "model.layers[1].opt.run(10)\n",
      "\n",
      "X = model.layers[1].X\n",
      "y = model.layers[1].transformer.lmul(X)\n",
      "frecon2 = theano.function([], y, allow_input_downcast=True)"
     ],
     "language": "python",
     "metadata": {},
     "outputs": []
    },
    {
     "cell_type": "code",
     "collapsed": false,
     "input": [
      "clean2 = frecon2()\n",
      "X2 = np.zeros(model.layers[0].X.get_value().shape)\n",
      "for i in range(clean2.shape[1]):\n",
      "    X2[0,i,:,:] = imresize(clean2[0,i,:,:],[36, 36])"
     ],
     "language": "python",
     "metadata": {},
     "outputs": []
    },
    {
     "cell_type": "code",
     "collapsed": false,
     "input": [
      "print model.layers[0].X.get_value().shape\n",
      "print X2.shape"
     ],
     "language": "python",
     "metadata": {},
     "outputs": []
    },
    {
     "cell_type": "code",
     "collapsed": false,
     "input": [
      "model.layers[0].X.set_value(X2.astype('float32'))\n",
      "clean = frecon()"
     ],
     "language": "python",
     "metadata": {},
     "outputs": []
    },
    {
     "cell_type": "code",
     "collapsed": false,
     "input": [
      "subplot(131)\n",
      "imshow(ori_data[0,0,:,:],cmap='gray')\n",
      "subplot(132)\n",
      "imshow(clean[0,0,:,:],cmap='gray')\n",
      "subplot(133)\n",
      "imshow(noisy_data[0,0,:,:],cmap='gray')"
     ],
     "language": "python",
     "metadata": {},
     "outputs": []
    },
    {
     "cell_type": "heading",
     "level": 1,
     "metadata": {},
     "source": [
      "Transform"
     ]
    },
    {
     "cell_type": "code",
     "collapsed": false,
     "input": [
      "from sklearn.manifold import TSNE\n",
      "from sklearn.decomposition import PCA\n",
      "\n",
      "testdata = monitoring_dataset['valid'].get_data()\n",
      "test_video = testdata[0]\n",
      "test_audio = testdata[1]\n",
      "test_target = testdata[2].astype('int32')\n",
      "#del testdata"
     ],
     "language": "python",
     "metadata": {},
     "outputs": []
    },
    {
     "cell_type": "code",
     "collapsed": false,
     "input": [
      "layer1 = np.zeros((72, 54, 9, 36, 36)).astype('float32')\n",
      "layer2 = np.zeros((72, 54, 9, 40, 40)).astype('float32')\n",
      "for i in range(72/8):\n",
      "    print i\n",
      "    for t in range(54):\n",
      "        start = i*8\n",
      "        end   = (i+1)*8\n",
      "        test_video = testdata[0][start:end,t:t+1,:,:]\n",
      "        test_audio = testdata[1][start:end,t:t+1,:,:].reshape((8,1000))\n",
      "        model.layers[0].S0.set_value(test_video)\n",
      "        model.layers[0].S1.set_value(test_audio)\n",
      "        model.layers[0].update_top_state(model.layers[0].X.get_value())\n",
      "        model.layers[0].opt.run(10)\n",
      "        layer1[start:end,t,:,:,:] = model.layers[0].X.get_value()\n",
      "        #layer2[start:end,t,:,:,:] = trainer.compiled_fprop[1](layer1[start:end,t,:,:,:])\n",
      "        \n",
      "    "
     ],
     "language": "python",
     "metadata": {},
     "outputs": []
    },
    {
     "cell_type": "code",
     "collapsed": false,
     "input": [
      "layer1 = layer1.reshape((72*54, -1))\n",
      "layer2 = layer2.reshape((72*54, -1))\n",
      "print layer1.shape\n",
      "print layer2.shape"
     ],
     "language": "python",
     "metadata": {},
     "outputs": []
    },
    {
     "cell_type": "code",
     "collapsed": false,
     "input": [
      "Y_l1 = PCA(n_components=2).fit_transform( layer1 )\n",
      "#Y_l1 = TSNE(n_components=2, perplexity=40).fit_transform(Y_l1.astype('float'))\n",
      "\n",
      "fig1 = figure()\n",
      "for i in range(72):\n",
      "    start = i * 54\n",
      "    end = (i+1) * 54\n",
      "    plot(Y_l1[start:end,0], Y_l1[start:end,1], '.')"
     ],
     "language": "python",
     "metadata": {},
     "outputs": []
    },
    {
     "cell_type": "heading",
     "level": 1,
     "metadata": {},
     "source": [
      "Test TRANSFORMER"
     ]
    },
    {
     "cell_type": "code",
     "collapsed": false,
     "input": [
      "from transformer import TRANSFORMER"
     ],
     "language": "python",
     "metadata": {},
     "outputs": []
    },
    {
     "cell_type": "code",
     "collapsed": false,
     "input": [
      "dataset = FULLVIDTIMIT('train', axes=('b','c',0,1), center=True)\n",
      "ori_data = dataset.get_data()\n",
      "tranf = TRANSFORMER(model, 54)"
     ],
     "language": "python",
     "metadata": {},
     "outputs": []
    },
    {
     "cell_type": "code",
     "collapsed": false,
     "input": [
      "rval = tranf.transform(ori_data)"
     ],
     "language": "python",
     "metadata": {},
     "outputs": []
    },
    {
     "cell_type": "code",
     "collapsed": false,
     "input": [
      "rval[0].shape"
     ],
     "language": "python",
     "metadata": {},
     "outputs": []
    },
    {
     "cell_type": "code",
     "collapsed": false,
     "input": [
      "from sklearn.decomposition import KernelPCA\n",
      "Y_l1 = KernelPCA(kernel='rbf', gamma=.001, n_components=2).fit_transform( rval[0].reshape((288*54,16*36*36)) )"
     ],
     "language": "python",
     "metadata": {},
     "outputs": []
    },
    {
     "cell_type": "code",
     "collapsed": false,
     "input": [
      "fig1 = figure()\n",
      "for i in [0, 8, 16, 24, 32, 8*5, 8*6]:\n",
      "    start = i * 54\n",
      "    end = (i+1) * 54\n",
      "    plot(Y_l1[start:end,0], Y_l1[start:end,1], '.')"
     ],
     "language": "python",
     "metadata": {},
     "outputs": []
    },
    {
     "cell_type": "code",
     "collapsed": false,
     "input": [
      "fig1 = figure()\n",
      "for i in range(0,2):\n",
      "    start = i * 54*8\n",
      "    end = (i+1) * 54*8\n",
      "    plot(Y_l1[start:end,0], Y_l1[start:end,1], '.')"
     ],
     "language": "python",
     "metadata": {},
     "outputs": []
    },
    {
     "cell_type": "code",
     "collapsed": false,
     "input": [
      "fig1 = figure()\n",
      "for i in range(72/2):\n",
      "    start = i * 54*2\n",
      "    end = (i+1) * 54*2\n",
      "    plot(Y_l1[start:end,0], Y_l1[start:end,1], '.')"
     ],
     "language": "python",
     "metadata": {},
     "outputs": []
    },
    {
     "cell_type": "code",
     "collapsed": false,
     "input": [],
     "language": "python",
     "metadata": {},
     "outputs": []
    }
   ],
   "metadata": {}
  }
 ]
}